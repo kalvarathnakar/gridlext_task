{
 "cells": [
  {
   "cell_type": "code",
   "execution_count": 1,
   "metadata": {},
   "outputs": [],
   "source": [
    "%matplotlib inline\n",
    "\n",
    "from collections import Counter\n",
    "from itertools import islice\n",
    "import pandas as pd\n",
    "import matplotlib.pyplot as plt\n",
    "import os\n"
   ]
  },
  {
   "cell_type": "code",
   "execution_count": 2,
   "metadata": {},
   "outputs": [
    {
     "data": {
      "image/png": "[encoded data removed]",
      "text/plain": [
       "<Figure size 432x288 with 1 Axes>"
      ]
     },
     "metadata": {
      "needs_background": "light"
     },
     "output_type": "display_data"
    },
    {
     "data": {
      "image/png": "[encoded data removed]",
      "text/plain": [
       "<Figure size 432x288 with 1 Axes>"
      ]
     },
     "metadata": {
      "needs_background": "light"
     },
     "output_type": "display_data"
    }
   ],
   "source": [
    "class StockInvestmentArgument():\n",
    "    \n",
    "\tdef __init__(self):\n",
    "        \n",
    "\t\tself.max_invest_amount_list =[]\n",
    "\t\tself.min_invest_amount_list = []\n",
    "\t\tself.get_csv_files()\n",
    "\t\tself.get_stock_list()\n",
    "\t\tself.build_graph()\n",
    "\n",
    "\n",
    "\t\t\n",
    "\tdef get_stock_list(self):\n",
    "\t\tself.amount =  (100*70.84)/3\n",
    "\t\tdf = self.df.set_index('Date')\n",
    "\t\tdiff_df = df.sort_values(by=['Date']).diff()\n",
    "\t\t#print df.to_csv('/home/user/Downloads/t.csv')\n",
    "\t\tcount=0\n",
    "\t\tself.previous_share_dict={}\n",
    "\t\tself.previous_min_share_dict={}\n",
    "\t\tfor index,row in diff_df[1:].iterrows():\n",
    "\t\t\tmax_three_list= list(islice(sorted(row.to_dict().items(),key=lambda x:x[1],reverse=True), 3))\n",
    "\t\t\tmin_three_list = list(islice(sorted(row.to_dict().items(),key=lambda x:x[1]), 3))\n",
    "\t\t\t#print max_three_list,min_three_list\n",
    "\t\t\trow_dict = df.loc[index].to_dict()\n",
    "\t\t\tmax_share_dict = {}\n",
    "\t\t\tmin_share_dict = {}\n",
    "\t\t\tif count==0:\t\t\t\t\n",
    "\t\t\t\tfor each in max_three_list:\n",
    "\t\t\t\t\tmax_share_dict[each[0]]= self.amount/row_dict[each[0]]\n",
    "\t\t\t\t#print (max_share_dict,\"max_share_dict\")\n",
    "\t\t\t\tself.previous_share_dict=max_share_dict\n",
    "\t\t\t\tself.max_invest_amount_list.append(self.sell_share_stock(row_dict,max_share_dict,index))\n",
    "\t\t\t\tfor each in min_three_list:\n",
    "\t\t\t\t\tmin_share_dict[each[0]]= self.amount/row_dict[each[0]]\n",
    "\t\t\t\tself.previous_min_share_dict=min_share_dict\n",
    "\t\t\t\tself.min_invest_amount_list.append(self.sell_share_stock(row_dict,min_share_dict,index))\n",
    "                \n",
    "                    \n",
    "\t\t\telse:\n",
    "\t\t\t\tmax_dict=self.sell_share_stock(row_dict,self.previous_share_dict,index)\n",
    "\t\t\t\tself.max_invest_amount_list.append(max_dict)\n",
    "\t\t\t\tmax_amount = max_dict['amount']/3\n",
    "\t\t\t\t\n",
    "\t\t\t\tfor each in max_three_list:\n",
    "\t\t\t\t\tmax_share_dict[each[0]]= max_amount/row_dict[each[0]]\n",
    "\t\t\t\tself.previous_share_dict=max_share_dict\n",
    "\t\t\t\tmin_dict=self.sell_share_stock(row_dict,self.previous_min_share_dict,index)\n",
    "\t\t\t\tself.min_invest_amount_list.append(min_dict)\n",
    "\t\t\t\tmin_amount=min_dict['amount']/3\n",
    "\t\t\t\tfor each in min_three_list:\n",
    "\t\t\t\t\tmin_share_dict[each[0]]= min_amount/row_dict[each[0]]\n",
    "\t\t\t\tself.previous_min_share_dict=min_share_dict\n",
    "\t\t\tcount=count+1\n",
    "            \n",
    "\tdef sell_share_stock(self,stock_row_dict,share_dict,index):\n",
    "\t\t#print (stock_row_dict,share_dict,\"jjjjjjjj\")\n",
    "\t\thighest_share_return_amount = 0\n",
    "\t\tfor k,v in share_dict.items():\n",
    "\t\t\thighest_share_return_amount = highest_share_return_amount+stock_row_dict[k]*v\n",
    "\t\t#self.amount=highest_share_return_amount/3\n",
    "\t\tkwargs ={\n",
    "            \"date\":index,\n",
    "            \"amount\":highest_share_return_amount\n",
    "        }\n",
    "\t\treturn kwargs\n",
    "\t\t#print (highest_share_return_amount)\n",
    "\n",
    "\tdef get_csv_files(self):\n",
    "\t\tfile_path = os.getcwd()+'/stock_files/'\n",
    "\t\tself.df = pd.DataFrame()\n",
    "\t\tfor each in os.listdir(file_path):\n",
    "\t\t\tcolumn_name=each.split('.')[0]\n",
    "\t\t\tif len(self.df)>0:\n",
    "\t\t\t\tdf1 = pd.read_csv(file_path+each, sep='|')\n",
    "\t\t\t\tdf1[column_name]=df1['StockPrice']\n",
    "\t\t\t\tdf1=df1.drop(columns=['StockPrice'])\n",
    "\t\t\t\tself.df = pd.merge(self.df,df1,on=['Date'])\t\t\t\t\n",
    "\t\t\telse:\t\t\t\t\n",
    "\t\t\t\tself.df = pd.read_csv(file_path+each, sep='|')\n",
    "\t\t\t\tself.df[column_name]=self.df['StockPrice']\n",
    "\t\t\t\tself.df=self.df.drop(columns=['StockPrice'])\n",
    "\t\t\t\t\n",
    "\t\t\t\n",
    "\tdef build_graph(self):\n",
    "\t\tmax_investment_graph_df = pd.DataFrame(self.max_invest_amount_list)\n",
    "\t\tmin_investment_graph_df = pd.DataFrame(self.min_invest_amount_list)\n",
    "\t\t#print(graph_df)\n",
    "\t\tmax_investment_graph_df.tail(30).plot(kind='bar',x='date',y='amount')\n",
    "\t\tmin_investment_graph_df.tail(30).plot(kind='bar',x='date',y='amount')\n",
    "        \n",
    "        \n",
    "\n",
    "\n",
    "\n",
    "c=StockInvestmentArgument()"
   ]
  },
  {
   "cell_type": "code",
   "execution_count": null,
   "metadata": {},
   "outputs": [],
   "source": []
  }
 ],
 "metadata": {
  "kernelspec": {
   "display_name": "Python 3",
   "language": "python",
   "name": "python3"
  },
  "language_info": {
   "codemirror_mode": {
    "name": "ipython",
    "version": 3
   },
   "file_extension": ".py",
   "mimetype": "text/x-python",
   "name": "python",
   "nbconvert_exporter": "python",
   "pygments_lexer": "ipython3",
   "version": "3.5.2"
  }
 },
 "nbformat": 4,
 "nbformat_minor": 2
}
